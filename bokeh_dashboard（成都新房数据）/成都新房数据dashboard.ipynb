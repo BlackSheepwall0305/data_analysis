{
 "cells": [
  {
   "cell_type": "code",
   "execution_count": 1,
   "metadata": {},
   "outputs": [],
   "source": [
    "import numpy as np\n",
    "import pandas as pd\n",
    "import pandas_bokeh\n",
    "from pandas_bokeh import column, row\n",
    "# pandas_bokeh.output_notebook()\n",
    "pandas_bokeh.output_file(r\"D:\\datasets\\bokeh_dashboard.html\")"
   ]
  },
  {
   "cell_type": "code",
   "execution_count": 2,
   "metadata": {},
   "outputs": [],
   "source": [
    "path = r\"D:\\datasets\\成都在售新房数据.xlsx\""
   ]
  },
  {
   "cell_type": "code",
   "execution_count": 3,
   "metadata": {},
   "outputs": [],
   "source": [
    "prop = pd.read_excel(path)"
   ]
  },
  {
   "cell_type": "code",
   "execution_count": 4,
   "metadata": {
    "scrolled": true
   },
   "outputs": [
    {
     "data": {
      "text/html": [
       "<div>\n",
       "<style scoped>\n",
       "    .dataframe tbody tr th:only-of-type {\n",
       "        vertical-align: middle;\n",
       "    }\n",
       "\n",
       "    .dataframe tbody tr th {\n",
       "        vertical-align: top;\n",
       "    }\n",
       "\n",
       "    .dataframe thead th {\n",
       "        text-align: right;\n",
       "    }\n",
       "</style>\n",
       "<table border=\"1\" class=\"dataframe\">\n",
       "  <thead>\n",
       "    <tr style=\"text-align: right;\">\n",
       "      <th></th>\n",
       "      <th>楼盘名</th>\n",
       "      <th>单价(万)</th>\n",
       "      <th>总价(万)</th>\n",
       "      <th>区域</th>\n",
       "      <th>经度</th>\n",
       "      <th>纬度</th>\n",
       "    </tr>\n",
       "  </thead>\n",
       "  <tbody>\n",
       "    <tr>\n",
       "      <td>0</td>\n",
       "      <td>新希望锦官府</td>\n",
       "      <td>2.70</td>\n",
       "      <td>304.0</td>\n",
       "      <td>锦江区</td>\n",
       "      <td>104.108017</td>\n",
       "      <td>30.593386</td>\n",
       "    </tr>\n",
       "    <tr>\n",
       "      <td>1</td>\n",
       "      <td>东韵雅苑</td>\n",
       "      <td>2.06</td>\n",
       "      <td>200.0</td>\n",
       "      <td>锦江区</td>\n",
       "      <td>104.109396</td>\n",
       "      <td>30.631512</td>\n",
       "    </tr>\n",
       "    <tr>\n",
       "      <td>2</td>\n",
       "      <td>昆仑华庭</td>\n",
       "      <td>2.97</td>\n",
       "      <td>300.0</td>\n",
       "      <td>锦江区</td>\n",
       "      <td>104.079933</td>\n",
       "      <td>30.655894</td>\n",
       "    </tr>\n",
       "    <tr>\n",
       "      <td>3</td>\n",
       "      <td>伊泰天骄</td>\n",
       "      <td>1.90</td>\n",
       "      <td>600.0</td>\n",
       "      <td>锦江区</td>\n",
       "      <td>104.113095</td>\n",
       "      <td>30.640077</td>\n",
       "    </tr>\n",
       "    <tr>\n",
       "      <td>4</td>\n",
       "      <td>新希望D10天府</td>\n",
       "      <td>3.50</td>\n",
       "      <td>684.0</td>\n",
       "      <td>锦江区</td>\n",
       "      <td>104.103197</td>\n",
       "      <td>30.649308</td>\n",
       "    </tr>\n",
       "  </tbody>\n",
       "</table>\n",
       "</div>"
      ],
      "text/plain": [
       "        楼盘名  单价(万)  总价(万)   区域          经度         纬度\n",
       "0    新希望锦官府   2.70  304.0  锦江区  104.108017  30.593386\n",
       "1      东韵雅苑   2.06  200.0  锦江区  104.109396  30.631512\n",
       "2      昆仑华庭   2.97  300.0  锦江区  104.079933  30.655894\n",
       "3      伊泰天骄   1.90  600.0  锦江区  104.113095  30.640077\n",
       "4  新希望D10天府   3.50  684.0  锦江区  104.103197  30.649308"
      ]
     },
     "execution_count": 4,
     "metadata": {},
     "output_type": "execute_result"
    }
   ],
   "source": [
    "prop.head()"
   ]
  },
  {
   "cell_type": "code",
   "execution_count": 5,
   "metadata": {},
   "outputs": [],
   "source": [
    "groupby = prop.groupby('区域')['单价(万)'].mean().sort_values(ascending=False)"
   ]
  },
  {
   "cell_type": "code",
   "execution_count": 6,
   "metadata": {},
   "outputs": [
    {
     "data": {
      "text/plain": [
       "区域\n",
       "青羊区     3.016667\n",
       "高新区     2.735714\n",
       "锦江区     2.626000\n",
       "武侯区     2.566667\n",
       "金牛区     1.847500\n",
       "成华区     1.834286\n",
       "天府新区    1.623333\n",
       "双流区     1.619913\n",
       "龙泉驿区    1.513740\n",
       "温江区     1.256429\n",
       "郫都区     1.222357\n",
       "新都区     1.044250\n",
       "Name: 单价(万), dtype: float64"
      ]
     },
     "execution_count": 6,
     "metadata": {},
     "output_type": "execute_result"
    }
   ],
   "source": [
    "groupby"
   ]
  },
  {
   "cell_type": "code",
   "execution_count": 7,
   "metadata": {},
   "outputs": [],
   "source": [
    "p1 = prop.plot_bokeh(kind = 'map',\n",
    "                      x = '经度',\n",
    "                      y = '纬度',\n",
    "                      category = '单价(万)',\n",
    "                      colormap = 'Viridis',\n",
    "                      title = '成都新房楼盘分布（颜色关联单价）',\n",
    "                      hovertool_string = \"\"\"<h2>@{楼盘名}</h2>\n",
    "                                            <h3>单价(万): @{单价(万)}</h3>\n",
    "                                            <h3>总价(万): @{总价(万)}</h3>\"\"\",\n",
    "                      size = 12,\n",
    "                      toolbar_location = None,\n",
    "                      show_figure = False\n",
    "                )"
   ]
  },
  {
   "cell_type": "code",
   "execution_count": 8,
   "metadata": {},
   "outputs": [],
   "source": [
    "p2 = groupby.plot_bokeh(kind = 'bar',\n",
    "                        title = '各区域每平米均价',\n",
    "                        toolbar_location = None,\n",
    "                        show_figure = False)"
   ]
  },
  {
   "cell_type": "code",
   "execution_count": 9,
   "metadata": {},
   "outputs": [],
   "source": [
    "p3 = prop['单价(万)'].plot_bokeh(kind = 'hist',\n",
    "                                 bins = np.arange(0.5, 5.5, 0.5),\n",
    "                                 normed = 100,\n",
    "                                 show_average = True,\n",
    "                                 title = '单价直方图',\n",
    "                                 ylabel = '占比(%)',\n",
    "                                 toolbar_location = None,\n",
    "                                 show_figure = False\n",
    "                                 )"
   ]
  },
  {
   "cell_type": "code",
   "execution_count": 10,
   "metadata": {},
   "outputs": [],
   "source": [
    "p4 = prop['总价(万)'].plot_bokeh(kind = 'hist',\n",
    "                                 bins = np.arange(0, 1300, 100),\n",
    "                                 normed = 100,\n",
    "                                 show_average = True,\n",
    "                                 title = '总价直方图',\n",
    "                                 ylabel = '占比(%)',\n",
    "                                 toolbar_location = None,\n",
    "                                 show_figure = False\n",
    "                                 )"
   ]
  },
  {
   "cell_type": "code",
   "execution_count": 11,
   "metadata": {},
   "outputs": [],
   "source": [
    "# pandas_bokeh.plot_grid([[p1,p2],[p3,p4]])"
   ]
  },
  {
   "cell_type": "code",
   "execution_count": 12,
   "metadata": {},
   "outputs": [],
   "source": [
    "p1.plot_width = 850\n",
    "p1.plot_height = 500\n",
    "\n",
    "p2.plot_width = 650\n",
    "p2.plot_height = 500\n",
    "\n",
    "p3.plot_width = 750\n",
    "p4.plot_width = 750\n",
    "\n",
    "\n",
    "layout = column(row(p1, p2), row(p3,p4))"
   ]
  },
  {
   "cell_type": "code",
   "execution_count": 13,
   "metadata": {},
   "outputs": [],
   "source": [
    "pandas_bokeh.show(layout)"
   ]
  },
  {
   "cell_type": "code",
   "execution_count": null,
   "metadata": {},
   "outputs": [],
   "source": []
  }
 ],
 "metadata": {
  "kernelspec": {
   "display_name": "Python 3",
   "language": "python",
   "name": "python3"
  },
  "language_info": {
   "codemirror_mode": {
    "name": "ipython",
    "version": 3
   },
   "file_extension": ".py",
   "mimetype": "text/x-python",
   "name": "python",
   "nbconvert_exporter": "python",
   "pygments_lexer": "ipython3",
   "version": "3.7.4"
  },
  "toc": {
   "base_numbering": 1,
   "nav_menu": {},
   "number_sections": true,
   "sideBar": true,
   "skip_h1_title": false,
   "title_cell": "Table of Contents",
   "title_sidebar": "Contents",
   "toc_cell": false,
   "toc_position": {},
   "toc_section_display": true,
   "toc_window_display": false
  }
 },
 "nbformat": 4,
 "nbformat_minor": 2
}
