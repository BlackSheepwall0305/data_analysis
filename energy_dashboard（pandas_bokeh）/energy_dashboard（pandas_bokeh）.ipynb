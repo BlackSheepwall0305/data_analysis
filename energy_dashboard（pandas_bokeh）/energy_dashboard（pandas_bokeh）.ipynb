{
 "cells": [
  {
   "cell_type": "code",
   "execution_count": 1,
   "metadata": {},
   "outputs": [],
   "source": [
    "import numpy as np\n",
    "import pandas as pd\n",
    "import pandas_bokeh\n",
    "from bokeh.models.widgets import DataTable, TableColumn\n",
    "from bokeh.models.sources import ColumnDataSource\n",
    "# pandas_bokeh.output_notebook()\n",
    "pandas_bokeh.output_file(r\"D:\\datasets\\energy_dashboard.html\")"
   ]
  },
  {
   "cell_type": "code",
   "execution_count": 2,
   "metadata": {},
   "outputs": [],
   "source": [
    "energy = pd.read_csv(r\"D:\\datasets\\energy.csv\")"
   ]
  },
  {
   "cell_type": "code",
   "execution_count": 3,
   "metadata": {
    "scrolled": false
   },
   "outputs": [
    {
     "data": {
      "text/html": [
       "<div>\n",
       "<style scoped>\n",
       "    .dataframe tbody tr th:only-of-type {\n",
       "        vertical-align: middle;\n",
       "    }\n",
       "\n",
       "    .dataframe tbody tr th {\n",
       "        vertical-align: top;\n",
       "    }\n",
       "\n",
       "    .dataframe thead th {\n",
       "        text-align: right;\n",
       "    }\n",
       "</style>\n",
       "<table border=\"1\" class=\"dataframe\">\n",
       "  <thead>\n",
       "    <tr style=\"text-align: right;\">\n",
       "      <th></th>\n",
       "      <th>Year</th>\n",
       "      <th>Oil</th>\n",
       "      <th>Gas</th>\n",
       "      <th>Coal</th>\n",
       "      <th>Nuclear Energy</th>\n",
       "      <th>Hydroelectricity</th>\n",
       "      <th>Other Renewable</th>\n",
       "    </tr>\n",
       "  </thead>\n",
       "  <tbody>\n",
       "    <tr>\n",
       "      <td>0</td>\n",
       "      <td>1970</td>\n",
       "      <td>2291.5</td>\n",
       "      <td>826.7</td>\n",
       "      <td>1467.3</td>\n",
       "      <td>17.7</td>\n",
       "      <td>265.8</td>\n",
       "      <td>5.8</td>\n",
       "    </tr>\n",
       "    <tr>\n",
       "      <td>1</td>\n",
       "      <td>1971</td>\n",
       "      <td>2427.7</td>\n",
       "      <td>884.8</td>\n",
       "      <td>1459.2</td>\n",
       "      <td>24.9</td>\n",
       "      <td>276.4</td>\n",
       "      <td>6.3</td>\n",
       "    </tr>\n",
       "    <tr>\n",
       "      <td>2</td>\n",
       "      <td>1972</td>\n",
       "      <td>2613.9</td>\n",
       "      <td>933.7</td>\n",
       "      <td>1475.7</td>\n",
       "      <td>34.1</td>\n",
       "      <td>288.9</td>\n",
       "      <td>6.8</td>\n",
       "    </tr>\n",
       "    <tr>\n",
       "      <td>3</td>\n",
       "      <td>1973</td>\n",
       "      <td>2818.1</td>\n",
       "      <td>978.0</td>\n",
       "      <td>1519.6</td>\n",
       "      <td>45.9</td>\n",
       "      <td>292.5</td>\n",
       "      <td>7.3</td>\n",
       "    </tr>\n",
       "    <tr>\n",
       "      <td>4</td>\n",
       "      <td>1974</td>\n",
       "      <td>2777.3</td>\n",
       "      <td>1001.9</td>\n",
       "      <td>1520.9</td>\n",
       "      <td>59.6</td>\n",
       "      <td>321.1</td>\n",
       "      <td>7.7</td>\n",
       "    </tr>\n",
       "  </tbody>\n",
       "</table>\n",
       "</div>"
      ],
      "text/plain": [
       "   Year     Oil     Gas    Coal  Nuclear Energy  Hydroelectricity  \\\n",
       "0  1970  2291.5   826.7  1467.3            17.7             265.8   \n",
       "1  1971  2427.7   884.8  1459.2            24.9             276.4   \n",
       "2  1972  2613.9   933.7  1475.7            34.1             288.9   \n",
       "3  1973  2818.1   978.0  1519.6            45.9             292.5   \n",
       "4  1974  2777.3  1001.9  1520.9            59.6             321.1   \n",
       "\n",
       "   Other Renewable  \n",
       "0              5.8  \n",
       "1              6.3  \n",
       "2              6.8  \n",
       "3              7.3  \n",
       "4              7.7  "
      ]
     },
     "execution_count": 3,
     "metadata": {},
     "output_type": "execute_result"
    }
   ],
   "source": [
    "energy.head()"
   ]
  },
  {
   "cell_type": "code",
   "execution_count": 4,
   "metadata": {},
   "outputs": [],
   "source": [
    "records = DataTable(columns = [TableColumn(field=c, title=c) for c in energy.columns],\n",
    "                    source = ColumnDataSource(energy),\n",
    "                    height = 450,\n",
    "                    width = 800\n",
    "                    )"
   ]
  },
  {
   "cell_type": "code",
   "execution_count": 5,
   "metadata": {},
   "outputs": [],
   "source": [
    "p1 = energy.plot_bokeh(kind = 'area',\n",
    "                       x = 'Year',\n",
    "                       stacked = True,\n",
    "                       title = '全球能源消耗Areaplot',\n",
    "                       ylabel = '百万吨油当量',\n",
    "                       xlabel = '年份',\n",
    "                       xticks = np.arange(1970, 2017,5),\n",
    "                       legend = 'top_left',\n",
    "                       colormap = 'Set1',\n",
    "                       alpha = 0.6,\n",
    "                       toolbar_location = None,\n",
    "                       show_figure = False\n",
    "                       )"
   ]
  },
  {
   "cell_type": "code",
   "execution_count": 6,
   "metadata": {},
   "outputs": [],
   "source": [
    "p2 = energy.plot_bokeh(kind = 'area',\n",
    "                       x = 'Year',\n",
    "                       stacked = True,\n",
    "                       normed = 100,\n",
    "                       title = '全球能源消耗Areaplot（规格化）',\n",
    "                       ylabel = '占比（%）',\n",
    "                       xlabel = '年份',\n",
    "                       xticks = np.arange(1970, 2017,5),\n",
    "                       legend = 'bottom_left',\n",
    "                       colormap = 'Set1',\n",
    "                       alpha = 0.6,\n",
    "                       toolbar_location = None,\n",
    "                       show_figure = False\n",
    "                       )"
   ]
  },
  {
   "cell_type": "code",
   "execution_count": 7,
   "metadata": {},
   "outputs": [],
   "source": [
    "energy.set_index('Year', inplace=True)"
   ]
  },
  {
   "cell_type": "code",
   "execution_count": 8,
   "metadata": {},
   "outputs": [],
   "source": [
    "energy_proportion = energy.div(energy.sum(axis=1), axis='index')*100"
   ]
  },
  {
   "cell_type": "code",
   "execution_count": 9,
   "metadata": {},
   "outputs": [
    {
     "data": {
      "text/html": [
       "<div>\n",
       "<style scoped>\n",
       "    .dataframe tbody tr th:only-of-type {\n",
       "        vertical-align: middle;\n",
       "    }\n",
       "\n",
       "    .dataframe tbody tr th {\n",
       "        vertical-align: top;\n",
       "    }\n",
       "\n",
       "    .dataframe thead th {\n",
       "        text-align: right;\n",
       "    }\n",
       "</style>\n",
       "<table border=\"1\" class=\"dataframe\">\n",
       "  <thead>\n",
       "    <tr style=\"text-align: right;\">\n",
       "      <th></th>\n",
       "      <th>Oil</th>\n",
       "      <th>Gas</th>\n",
       "      <th>Coal</th>\n",
       "      <th>Nuclear Energy</th>\n",
       "      <th>Hydroelectricity</th>\n",
       "      <th>Other Renewable</th>\n",
       "    </tr>\n",
       "    <tr>\n",
       "      <th>Year</th>\n",
       "      <th></th>\n",
       "      <th></th>\n",
       "      <th></th>\n",
       "      <th></th>\n",
       "      <th></th>\n",
       "      <th></th>\n",
       "    </tr>\n",
       "  </thead>\n",
       "  <tbody>\n",
       "    <tr>\n",
       "      <td>1970</td>\n",
       "      <td>47.007057</td>\n",
       "      <td>16.958644</td>\n",
       "      <td>30.099696</td>\n",
       "      <td>0.363092</td>\n",
       "      <td>5.452531</td>\n",
       "      <td>0.118979</td>\n",
       "    </tr>\n",
       "    <tr>\n",
       "      <td>1971</td>\n",
       "      <td>47.795956</td>\n",
       "      <td>17.419723</td>\n",
       "      <td>28.728368</td>\n",
       "      <td>0.490225</td>\n",
       "      <td>5.441695</td>\n",
       "      <td>0.124033</td>\n",
       "    </tr>\n",
       "    <tr>\n",
       "      <td>1972</td>\n",
       "      <td>48.829650</td>\n",
       "      <td>17.442230</td>\n",
       "      <td>27.567204</td>\n",
       "      <td>0.637014</td>\n",
       "      <td>5.396873</td>\n",
       "      <td>0.127029</td>\n",
       "    </tr>\n",
       "    <tr>\n",
       "      <td>1973</td>\n",
       "      <td>49.777440</td>\n",
       "      <td>17.274879</td>\n",
       "      <td>26.841417</td>\n",
       "      <td>0.810754</td>\n",
       "      <td>5.166567</td>\n",
       "      <td>0.128943</td>\n",
       "    </tr>\n",
       "    <tr>\n",
       "      <td>1974</td>\n",
       "      <td>48.823064</td>\n",
       "      <td>17.612727</td>\n",
       "      <td>26.736398</td>\n",
       "      <td>1.047728</td>\n",
       "      <td>5.644722</td>\n",
       "      <td>0.135361</td>\n",
       "    </tr>\n",
       "  </tbody>\n",
       "</table>\n",
       "</div>"
      ],
      "text/plain": [
       "            Oil        Gas       Coal  Nuclear Energy  Hydroelectricity  \\\n",
       "Year                                                                      \n",
       "1970  47.007057  16.958644  30.099696        0.363092          5.452531   \n",
       "1971  47.795956  17.419723  28.728368        0.490225          5.441695   \n",
       "1972  48.829650  17.442230  27.567204        0.637014          5.396873   \n",
       "1973  49.777440  17.274879  26.841417        0.810754          5.166567   \n",
       "1974  48.823064  17.612727  26.736398        1.047728          5.644722   \n",
       "\n",
       "      Other Renewable  \n",
       "Year                   \n",
       "1970         0.118979  \n",
       "1971         0.124033  \n",
       "1972         0.127029  \n",
       "1973         0.128943  \n",
       "1974         0.135361  "
      ]
     },
     "execution_count": 9,
     "metadata": {},
     "output_type": "execute_result"
    }
   ],
   "source": [
    "energy_proportion.head()"
   ]
  },
  {
   "cell_type": "code",
   "execution_count": 10,
   "metadata": {},
   "outputs": [],
   "source": [
    "p3 = energy_proportion.plot_bokeh(kind = 'line',\n",
    "                                  title = '各类型能源占比变化',\n",
    "                                  xlabel = '年份',\n",
    "                                  ylabel = '占比（%）',\n",
    "                                  xticks = np.arange(1970, 2017, 5),\n",
    "                                  legend = 'top_left',\n",
    "                                  colormap =  'Set2',\n",
    "                                  toolbar_location = None,\n",
    "                                  show_figure = False\n",
    "                                  )"
   ]
  },
  {
   "cell_type": "code",
   "execution_count": 11,
   "metadata": {},
   "outputs": [
    {
     "data": {
      "text/html": [
       "<div style=\"display: table;\"><div style=\"display: table-row;\"><div style=\"display: table-cell;\"><b title=\"bokeh.models.layouts.GridBox\">GridBox</b>(</div><div style=\"display: table-cell;\">id&nbsp;=&nbsp;'1584', <span id=\"2210\" style=\"cursor: pointer;\">&hellip;)</span></div></div><div class=\"2209\" style=\"display: none;\"><div style=\"display: table-cell;\"></div><div style=\"display: table-cell;\">align&nbsp;=&nbsp;'start',</div></div><div class=\"2209\" style=\"display: none;\"><div style=\"display: table-cell;\"></div><div style=\"display: table-cell;\">aspect_ratio&nbsp;=&nbsp;None,</div></div><div class=\"2209\" style=\"display: none;\"><div style=\"display: table-cell;\"></div><div style=\"display: table-cell;\">background&nbsp;=&nbsp;None,</div></div><div class=\"2209\" style=\"display: none;\"><div style=\"display: table-cell;\"></div><div style=\"display: table-cell;\">children&nbsp;=&nbsp;[(DataTable(id='1009', ...), 0, 0), (Figure(id='1011', ...), 0, 1), (Figure(id='1182', ...), 1, 0), (Figure(id='1353', ...), 1, 1)],</div></div><div class=\"2209\" style=\"display: none;\"><div style=\"display: table-cell;\"></div><div style=\"display: table-cell;\">cols&nbsp;=&nbsp;'auto',</div></div><div class=\"2209\" style=\"display: none;\"><div style=\"display: table-cell;\"></div><div style=\"display: table-cell;\">css_classes&nbsp;=&nbsp;[],</div></div><div class=\"2209\" style=\"display: none;\"><div style=\"display: table-cell;\"></div><div style=\"display: table-cell;\">disabled&nbsp;=&nbsp;False,</div></div><div class=\"2209\" style=\"display: none;\"><div style=\"display: table-cell;\"></div><div style=\"display: table-cell;\">height&nbsp;=&nbsp;None,</div></div><div class=\"2209\" style=\"display: none;\"><div style=\"display: table-cell;\"></div><div style=\"display: table-cell;\">height_policy&nbsp;=&nbsp;'auto',</div></div><div class=\"2209\" style=\"display: none;\"><div style=\"display: table-cell;\"></div><div style=\"display: table-cell;\">js_event_callbacks&nbsp;=&nbsp;{},</div></div><div class=\"2209\" style=\"display: none;\"><div style=\"display: table-cell;\"></div><div style=\"display: table-cell;\">js_property_callbacks&nbsp;=&nbsp;{},</div></div><div class=\"2209\" style=\"display: none;\"><div style=\"display: table-cell;\"></div><div style=\"display: table-cell;\">margin&nbsp;=&nbsp;(0, 0, 0, 0),</div></div><div class=\"2209\" style=\"display: none;\"><div style=\"display: table-cell;\"></div><div style=\"display: table-cell;\">max_height&nbsp;=&nbsp;None,</div></div><div class=\"2209\" style=\"display: none;\"><div style=\"display: table-cell;\"></div><div style=\"display: table-cell;\">max_width&nbsp;=&nbsp;None,</div></div><div class=\"2209\" style=\"display: none;\"><div style=\"display: table-cell;\"></div><div style=\"display: table-cell;\">min_height&nbsp;=&nbsp;None,</div></div><div class=\"2209\" style=\"display: none;\"><div style=\"display: table-cell;\"></div><div style=\"display: table-cell;\">min_width&nbsp;=&nbsp;None,</div></div><div class=\"2209\" style=\"display: none;\"><div style=\"display: table-cell;\"></div><div style=\"display: table-cell;\">name&nbsp;=&nbsp;None,</div></div><div class=\"2209\" style=\"display: none;\"><div style=\"display: table-cell;\"></div><div style=\"display: table-cell;\">rows&nbsp;=&nbsp;'auto',</div></div><div class=\"2209\" style=\"display: none;\"><div style=\"display: table-cell;\"></div><div style=\"display: table-cell;\">sizing_mode&nbsp;=&nbsp;None,</div></div><div class=\"2209\" style=\"display: none;\"><div style=\"display: table-cell;\"></div><div style=\"display: table-cell;\">spacing&nbsp;=&nbsp;0,</div></div><div class=\"2209\" style=\"display: none;\"><div style=\"display: table-cell;\"></div><div style=\"display: table-cell;\">subscribed_events&nbsp;=&nbsp;[],</div></div><div class=\"2209\" style=\"display: none;\"><div style=\"display: table-cell;\"></div><div style=\"display: table-cell;\">tags&nbsp;=&nbsp;[],</div></div><div class=\"2209\" style=\"display: none;\"><div style=\"display: table-cell;\"></div><div style=\"display: table-cell;\">visible&nbsp;=&nbsp;True,</div></div><div class=\"2209\" style=\"display: none;\"><div style=\"display: table-cell;\"></div><div style=\"display: table-cell;\">width&nbsp;=&nbsp;None,</div></div><div class=\"2209\" style=\"display: none;\"><div style=\"display: table-cell;\"></div><div style=\"display: table-cell;\">width_policy&nbsp;=&nbsp;'auto')</div></div></div>\n",
       "<script>\n",
       "(function() {\n",
       "  var expanded = false;\n",
       "  var ellipsis = document.getElementById(\"2210\");\n",
       "  ellipsis.addEventListener(\"click\", function() {\n",
       "    var rows = document.getElementsByClassName(\"2209\");\n",
       "    for (var i = 0; i < rows.length; i++) {\n",
       "      var el = rows[i];\n",
       "      el.style.display = expanded ? \"none\" : \"table-row\";\n",
       "    }\n",
       "    ellipsis.innerHTML = expanded ? \"&hellip;)\" : \"&lsaquo;&lsaquo;&lsaquo;\";\n",
       "    expanded = !expanded;\n",
       "  });\n",
       "})();\n",
       "</script>\n"
      ],
      "text/plain": [
       "GridBox(id='1584', ...)"
      ]
     },
     "execution_count": 11,
     "metadata": {},
     "output_type": "execute_result"
    }
   ],
   "source": [
    "pandas_bokeh.plot_grid([[records, p1],[p2, p3]], \n",
    "                       plot_width=800, \n",
    "                       plot_height=450, \n",
    "                       toolbar_location = None)"
   ]
  },
  {
   "cell_type": "code",
   "execution_count": null,
   "metadata": {},
   "outputs": [],
   "source": []
  }
 ],
 "metadata": {
  "kernelspec": {
   "display_name": "Python 3",
   "language": "python",
   "name": "python3"
  },
  "language_info": {
   "codemirror_mode": {
    "name": "ipython",
    "version": 3
   },
   "file_extension": ".py",
   "mimetype": "text/x-python",
   "name": "python",
   "nbconvert_exporter": "python",
   "pygments_lexer": "ipython3",
   "version": "3.7.4"
  },
  "toc": {
   "base_numbering": 1,
   "nav_menu": {},
   "number_sections": true,
   "sideBar": true,
   "skip_h1_title": false,
   "title_cell": "Table of Contents",
   "title_sidebar": "Contents",
   "toc_cell": false,
   "toc_position": {},
   "toc_section_display": true,
   "toc_window_display": false
  }
 },
 "nbformat": 4,
 "nbformat_minor": 2
}
